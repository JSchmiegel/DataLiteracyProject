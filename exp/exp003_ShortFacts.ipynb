{
 "cells": [
  {
   "cell_type": "markdown",
   "id": "c7d39441",
   "metadata": {},
   "source": [
    "# Experiment 003: *Short facts"
   ]
  },
  {
   "cell_type": "code",
   "execution_count": 1,
   "id": "1e1a3cd1",
   "metadata": {},
   "outputs": [
    {
     "name": "stderr",
     "output_type": "stream",
     "text": [
      "UsageError: Line magic function `%matplobtlib` not found.\n"
     ]
    }
   ],
   "source": [
    "'''import standard libraries'''\n",
    "import numpy as np                       # mathematical methods\n",
    "from matplotlib import pyplot as plt     # plotting methods within notebook\n",
    "from scipy import stats                  # lots of statistical methods\n",
    "import pandas as pd\n",
    "%matplobtlib inline"
   ]
  },
  {
   "cell_type": "code",
   "execution_count": 2,
   "id": "796c1ae1",
   "metadata": {},
   "outputs": [],
   "source": [
    "import os\n",
    "os.chdir('../')\n",
    "\n",
    "\n",
    "from src.get_data import get_data\n",
    "from src.get_data_tracks import get_data_tracks"
   ]
  },
  {
   "cell_type": "markdown",
   "id": "ee7bd4a8",
   "metadata": {},
   "source": [
    "## Hypothesis:\n",
    "\n",
    "We want to get short facts about the playlists, like for example:\n",
    "- What is the average playlist length (tracks and duration)\n",
    "- What is the number of unique tracks?\n",
    "- What is the number of unique albums?\n",
    "- What is the number of unique artists?\n",
    "- What is the most common playlist name?"
   ]
  },
  {
   "cell_type": "markdown",
   "id": "3d7056fd",
   "metadata": {},
   "source": [
    "## What is the average playlist length (tracks and duration):\n",
    "### 1. duration"
   ]
  },
  {
   "cell_type": "code",
   "execution_count": 30,
   "id": "6b3a2416",
   "metadata": {
    "scrolled": true
   },
   "outputs": [
    {
     "data": {
      "text/html": [
       "<div>\n",
       "<style scoped>\n",
       "    .dataframe tbody tr th:only-of-type {\n",
       "        vertical-align: middle;\n",
       "    }\n",
       "\n",
       "    .dataframe tbody tr th {\n",
       "        vertical-align: top;\n",
       "    }\n",
       "\n",
       "    .dataframe thead th {\n",
       "        text-align: right;\n",
       "    }\n",
       "</style>\n",
       "<table border=\"1\" class=\"dataframe\">\n",
       "  <thead>\n",
       "    <tr style=\"text-align: right;\">\n",
       "      <th></th>\n",
       "      <th>name</th>\n",
       "      <th>collaborative</th>\n",
       "      <th>pid</th>\n",
       "      <th>modified_at</th>\n",
       "      <th>num_tracks</th>\n",
       "      <th>num_albums</th>\n",
       "      <th>num_followers</th>\n",
       "      <th>tracks</th>\n",
       "      <th>num_edits</th>\n",
       "      <th>duration_ms</th>\n",
       "      <th>num_artists</th>\n",
       "      <th>description</th>\n",
       "    </tr>\n",
       "  </thead>\n",
       "  <tbody>\n",
       "    <tr>\n",
       "      <th>0</th>\n",
       "      <td>Throwbacks</td>\n",
       "      <td>false</td>\n",
       "      <td>0</td>\n",
       "      <td>1493424000</td>\n",
       "      <td>52</td>\n",
       "      <td>47</td>\n",
       "      <td>1</td>\n",
       "      <td>[{'pos': 0, 'artist_name': 'Missy Elliott', 't...</td>\n",
       "      <td>6</td>\n",
       "      <td>11532414</td>\n",
       "      <td>37</td>\n",
       "      <td>NaN</td>\n",
       "    </tr>\n",
       "    <tr>\n",
       "      <th>1</th>\n",
       "      <td>Awesome Playlist</td>\n",
       "      <td>false</td>\n",
       "      <td>1</td>\n",
       "      <td>1506556800</td>\n",
       "      <td>39</td>\n",
       "      <td>23</td>\n",
       "      <td>1</td>\n",
       "      <td>[{'pos': 0, 'artist_name': 'Survivor', 'track_...</td>\n",
       "      <td>5</td>\n",
       "      <td>11656470</td>\n",
       "      <td>21</td>\n",
       "      <td>NaN</td>\n",
       "    </tr>\n",
       "    <tr>\n",
       "      <th>2</th>\n",
       "      <td>korean</td>\n",
       "      <td>false</td>\n",
       "      <td>2</td>\n",
       "      <td>1505692800</td>\n",
       "      <td>64</td>\n",
       "      <td>51</td>\n",
       "      <td>1</td>\n",
       "      <td>[{'pos': 0, 'artist_name': 'Hoody', 'track_uri...</td>\n",
       "      <td>18</td>\n",
       "      <td>14039958</td>\n",
       "      <td>31</td>\n",
       "      <td>NaN</td>\n",
       "    </tr>\n",
       "    <tr>\n",
       "      <th>3</th>\n",
       "      <td>mat</td>\n",
       "      <td>false</td>\n",
       "      <td>3</td>\n",
       "      <td>1501027200</td>\n",
       "      <td>126</td>\n",
       "      <td>107</td>\n",
       "      <td>1</td>\n",
       "      <td>[{'pos': 0, 'artist_name': 'Camille Saint-Saën...</td>\n",
       "      <td>4</td>\n",
       "      <td>28926058</td>\n",
       "      <td>86</td>\n",
       "      <td>NaN</td>\n",
       "    </tr>\n",
       "    <tr>\n",
       "      <th>4</th>\n",
       "      <td>90s</td>\n",
       "      <td>false</td>\n",
       "      <td>4</td>\n",
       "      <td>1401667200</td>\n",
       "      <td>17</td>\n",
       "      <td>16</td>\n",
       "      <td>2</td>\n",
       "      <td>[{'pos': 0, 'artist_name': 'The Smashing Pumpk...</td>\n",
       "      <td>7</td>\n",
       "      <td>4335282</td>\n",
       "      <td>16</td>\n",
       "      <td>NaN</td>\n",
       "    </tr>\n",
       "    <tr>\n",
       "      <th>...</th>\n",
       "      <td>...</td>\n",
       "      <td>...</td>\n",
       "      <td>...</td>\n",
       "      <td>...</td>\n",
       "      <td>...</td>\n",
       "      <td>...</td>\n",
       "      <td>...</td>\n",
       "      <td>...</td>\n",
       "      <td>...</td>\n",
       "      <td>...</td>\n",
       "      <td>...</td>\n",
       "      <td>...</td>\n",
       "    </tr>\n",
       "    <tr>\n",
       "      <th>19995</th>\n",
       "      <td>EDM</td>\n",
       "      <td>false</td>\n",
       "      <td>19995</td>\n",
       "      <td>1417824000</td>\n",
       "      <td>18</td>\n",
       "      <td>14</td>\n",
       "      <td>1</td>\n",
       "      <td>[{'pos': 0, 'artist_name': 'Calvin Harris', 't...</td>\n",
       "      <td>2</td>\n",
       "      <td>4614171</td>\n",
       "      <td>11</td>\n",
       "      <td>NaN</td>\n",
       "    </tr>\n",
       "    <tr>\n",
       "      <th>19996</th>\n",
       "      <td>christmas 2014</td>\n",
       "      <td>false</td>\n",
       "      <td>19996</td>\n",
       "      <td>1449360000</td>\n",
       "      <td>24</td>\n",
       "      <td>24</td>\n",
       "      <td>1</td>\n",
       "      <td>[{'pos': 0, 'artist_name': 'Brenda Lee', 'trac...</td>\n",
       "      <td>5</td>\n",
       "      <td>4675554</td>\n",
       "      <td>23</td>\n",
       "      <td>NaN</td>\n",
       "    </tr>\n",
       "    <tr>\n",
       "      <th>19997</th>\n",
       "      <td>Metal</td>\n",
       "      <td>false</td>\n",
       "      <td>19997</td>\n",
       "      <td>1495670400</td>\n",
       "      <td>106</td>\n",
       "      <td>24</td>\n",
       "      <td>2</td>\n",
       "      <td>[{'pos': 0, 'artist_name': 'Decapitated', 'tra...</td>\n",
       "      <td>9</td>\n",
       "      <td>28912970</td>\n",
       "      <td>11</td>\n",
       "      <td>NaN</td>\n",
       "    </tr>\n",
       "    <tr>\n",
       "      <th>19998</th>\n",
       "      <td>oldie</td>\n",
       "      <td>false</td>\n",
       "      <td>19998</td>\n",
       "      <td>1506816000</td>\n",
       "      <td>36</td>\n",
       "      <td>31</td>\n",
       "      <td>1</td>\n",
       "      <td>[{'pos': 0, 'artist_name': 'Diddy', 'track_uri...</td>\n",
       "      <td>16</td>\n",
       "      <td>9374114</td>\n",
       "      <td>26</td>\n",
       "      <td>NaN</td>\n",
       "    </tr>\n",
       "    <tr>\n",
       "      <th>19999</th>\n",
       "      <td>flow</td>\n",
       "      <td>false</td>\n",
       "      <td>19999</td>\n",
       "      <td>1493856000</td>\n",
       "      <td>10</td>\n",
       "      <td>10</td>\n",
       "      <td>1</td>\n",
       "      <td>[{'pos': 0, 'artist_name': 'James Morrison', '...</td>\n",
       "      <td>2</td>\n",
       "      <td>2285167</td>\n",
       "      <td>9</td>\n",
       "      <td>NaN</td>\n",
       "    </tr>\n",
       "  </tbody>\n",
       "</table>\n",
       "<p>20000 rows × 12 columns</p>\n",
       "</div>"
      ],
      "text/plain": [
       "                   name collaborative    pid  modified_at  num_tracks  \\\n",
       "0            Throwbacks         false      0   1493424000          52   \n",
       "1      Awesome Playlist         false      1   1506556800          39   \n",
       "2               korean          false      2   1505692800          64   \n",
       "3                   mat         false      3   1501027200         126   \n",
       "4                   90s         false      4   1401667200          17   \n",
       "...                 ...           ...    ...          ...         ...   \n",
       "19995               EDM         false  19995   1417824000          18   \n",
       "19996    christmas 2014         false  19996   1449360000          24   \n",
       "19997             Metal         false  19997   1495670400         106   \n",
       "19998             oldie         false  19998   1506816000          36   \n",
       "19999              flow         false  19999   1493856000          10   \n",
       "\n",
       "       num_albums  num_followers  \\\n",
       "0              47              1   \n",
       "1              23              1   \n",
       "2              51              1   \n",
       "3             107              1   \n",
       "4              16              2   \n",
       "...           ...            ...   \n",
       "19995          14              1   \n",
       "19996          24              1   \n",
       "19997          24              2   \n",
       "19998          31              1   \n",
       "19999          10              1   \n",
       "\n",
       "                                                  tracks  num_edits  \\\n",
       "0      [{'pos': 0, 'artist_name': 'Missy Elliott', 't...          6   \n",
       "1      [{'pos': 0, 'artist_name': 'Survivor', 'track_...          5   \n",
       "2      [{'pos': 0, 'artist_name': 'Hoody', 'track_uri...         18   \n",
       "3      [{'pos': 0, 'artist_name': 'Camille Saint-Saën...          4   \n",
       "4      [{'pos': 0, 'artist_name': 'The Smashing Pumpk...          7   \n",
       "...                                                  ...        ...   \n",
       "19995  [{'pos': 0, 'artist_name': 'Calvin Harris', 't...          2   \n",
       "19996  [{'pos': 0, 'artist_name': 'Brenda Lee', 'trac...          5   \n",
       "19997  [{'pos': 0, 'artist_name': 'Decapitated', 'tra...          9   \n",
       "19998  [{'pos': 0, 'artist_name': 'Diddy', 'track_uri...         16   \n",
       "19999  [{'pos': 0, 'artist_name': 'James Morrison', '...          2   \n",
       "\n",
       "       duration_ms  num_artists description  \n",
       "0         11532414           37         NaN  \n",
       "1         11656470           21         NaN  \n",
       "2         14039958           31         NaN  \n",
       "3         28926058           86         NaN  \n",
       "4          4335282           16         NaN  \n",
       "...            ...          ...         ...  \n",
       "19995      4614171           11         NaN  \n",
       "19996      4675554           23         NaN  \n",
       "19997     28912970           11         NaN  \n",
       "19998      9374114           26         NaN  \n",
       "19999      2285167            9         NaN  \n",
       "\n",
       "[20000 rows x 12 columns]"
      ]
     },
     "execution_count": 30,
     "metadata": {},
     "output_type": "execute_result"
    }
   ],
   "source": [
    "dataset = get_data(pre=True)\n",
    "dataset"
   ]
  },
  {
   "cell_type": "code",
   "execution_count": 20,
   "id": "9c8f8a41",
   "metadata": {},
   "outputs": [
    {
     "name": "stdout",
     "output_type": "stream",
     "text": [
      "total_duration= 312852249696, average_duration= 15642612.4848\n"
     ]
    }
   ],
   "source": [
    "total_duration = dataset['duration_ms'].sum()\n",
    "average_duration = total_duration/len(dataset)\n",
    "print(f'total_duration= {total_duration}, average_duration= {average_duration}')"
   ]
  },
  {
   "cell_type": "code",
   "execution_count": 25,
   "id": "44249e2b",
   "metadata": {},
   "outputs": [],
   "source": [
    "def convert_ms(ms:float) -> str:\n",
    "    duration = datetime.timedelta(milliseconds=ms)\n",
    "    return f'{duration.hours}:{duration.minutes}:{duration.seconds}'"
   ]
  },
  {
   "cell_type": "code",
   "execution_count": 28,
   "id": "cd630fd3",
   "metadata": {},
   "outputs": [
    {
     "name": "stdout",
     "output_type": "stream",
     "text": [
      "total_duration= 23:24:9, average_duration= 4:20:42 (hours:minutes:seconds)\n"
     ]
    }
   ],
   "source": [
    "print(f'total_duration= {convert(total_duration)}, average_duration= {convert(average_duration)} (hours:minutes:seconds)')"
   ]
  },
  {
   "cell_type": "markdown",
   "id": "b9bd944a",
   "metadata": {},
   "source": [
    "### 2. tracks"
   ]
  },
  {
   "cell_type": "code",
   "execution_count": 29,
   "id": "2a12428f",
   "metadata": {},
   "outputs": [],
   "source": [
    "dataset = get_data(pre=True)"
   ]
  },
  {
   "cell_type": "code",
   "execution_count": 32,
   "id": "12fe1a39",
   "metadata": {},
   "outputs": [
    {
     "name": "stdout",
     "output_type": "stream",
     "text": [
      "total_tracks= 1333407, average_tracks= 66.67035\n"
     ]
    }
   ],
   "source": [
    "total_tracks = dataset['num_tracks'].sum()\n",
    "average_tracks = total_tracks/len(dataset)\n",
    "print(f'total_tracks= {total_tracks}, average_tracks= {average_tracks}')"
   ]
  },
  {
   "cell_type": "markdown",
   "id": "f985f52f",
   "metadata": {},
   "source": [
    "### 3.a Graph the change of the average_tracks"
   ]
  },
  {
   "cell_type": "code",
   "execution_count": 61,
   "id": "656b0f76",
   "metadata": {
    "scrolled": true
   },
   "outputs": [
    {
     "data": {
      "text/plain": [
       "[<matplotlib.lines.Line2D at 0x7f3fdb23d630>]"
      ]
     },
     "execution_count": 61,
     "metadata": {},
     "output_type": "execute_result"
    },
    {
     "data": {
      "image/png": "[encoded data removed]",
      "text/plain": [
       "<Figure size 432x288 with 1 Axes>"
      ]
     },
     "metadata": {
      "needs_background": "light"
     },
     "output_type": "display_data"
    }
   ],
   "source": [
    "average_tracks_timeline = []\n",
    "total_tracks = 0\n",
    "i = 0\n",
    "for num_tracks in dataset['num_tracks']:\n",
    "    i += 1\n",
    "    total_tracks += num_tracks\n",
    "    average_tracks_timeline.append(total_tracks/i)\n",
    "mu = dataset['num_tracks'].mean()\n",
    "plt.axhline(y=mu, color = 'black', linestyle = '--')\n",
    "plt.plot(average_tracks_timeline)"
   ]
  },
  {
   "cell_type": "markdown",
   "id": "8b48756b",
   "metadata": {},
   "source": [
    "### 3.b Graph the change of the average_duration"
   ]
  },
  {
   "cell_type": "code",
   "execution_count": 59,
   "id": "620a9640",
   "metadata": {
    "scrolled": true
   },
   "outputs": [
    {
     "data": {
      "text/plain": [
       "[<matplotlib.lines.Line2D at 0x7f3fdb040580>]"
      ]
     },
     "execution_count": 59,
     "metadata": {},
     "output_type": "execute_result"
    },
    {
     "data": {
      "image/png": "[encoded data removed]",
      "text/plain": [
       "<Figure size 432x288 with 1 Axes>"
      ]
     },
     "metadata": {
      "needs_background": "light"
     },
     "output_type": "display_data"
    }
   ],
   "source": [
    "average_duration_timeline = []\n",
    "total_duration = 0\n",
    "i = 0\n",
    "for duration_s in dataset['duration_ms']:\n",
    "    i += 1\n",
    "    total_duration += duration_s\n",
    "    average_duration_timeline.append(total_duration/i)\n",
    "mu = dataset['duration_ms'].mean()\n",
    "plt.axhline(y=mu, color = 'black', linestyle = '--')\n",
    "plt.plot(average_duration_timeline)\n",
    "\n",
    "# [ ] konfidenzintervall? -> verteilung ja nicht klar???!!!\n"
   ]
  },
  {
   "cell_type": "markdown",
   "id": "863d7b7c",
   "metadata": {},
   "source": [
    "#### Note:\n",
    "Gesetz der großen Zahlen!!"
   ]
  },
  {
   "cell_type": "markdown",
   "id": "a7d5c62e",
   "metadata": {},
   "source": [
    "### 4.a Distribution of the duration"
   ]
  },
  {
   "cell_type": "code",
   "execution_count": 57,
   "id": "32413124",
   "metadata": {
    "scrolled": true
   },
   "outputs": [
    {
     "data": {
      "image/png": "[encoded data removed]",
      "text/plain": [
       "<Figure size 432x288 with 1 Axes>"
      ]
     },
     "metadata": {
      "needs_background": "light"
     },
     "output_type": "display_data"
    }
   ],
   "source": [
    "plt.hist(dataset['duration_ms'])\n",
    "plt.show()"
   ]
  },
  {
   "cell_type": "markdown",
   "id": "9b556085",
   "metadata": {},
   "source": [
    "### 4.b Distribution of the track number"
   ]
  },
  {
   "cell_type": "markdown",
   "id": "6b555184",
   "metadata": {},
   "source": [
    "Idea: Weibull-distribution"
   ]
  },
  {
   "cell_type": "code",
   "execution_count": 116,
   "id": "2a047a30",
   "metadata": {
    "scrolled": false
   },
   "outputs": [
    {
     "data": {
      "image/png": "[encoded data removed]",
      "text/plain": [
       "<Figure size 1440x720 with 2 Axes>"
      ]
     },
     "metadata": {
      "needs_background": "light"
     },
     "output_type": "display_data"
    }
   ],
   "source": [
    "fig, axs = plt.subplots(1, 2, figsize=(20, 10))\n",
    "\n",
    "axs[0].hist(dataset['num_tracks'])\n",
    "axs[1].hist(dataset['num_tracks'], density=True)\n",
    "#alpha, k, _, _ = stats.exponweib.fit(dataset['num_tracks'])\n",
    "xgrid = np.arange(250)\n",
    "#axs[1].plot(xgrid, stats.exponweib(alpha, k).pdf(xgrid))\n",
    "#alpha, k, _= stats.weibull_max.fit(dataset['num_tracks'])\n",
    "#axs[1].plot(xgrid, stats.weibull_max(alpha, k).pdf(xgrid))\n",
    "alpha, k, _= stats.weibull_min.fit(dataset['num_tracks'])\n",
    "axs[1].plot(xgrid, stats.weibull_min(alpha, k).pdf(xgrid))\n",
    "\n",
    "plt.show()"
   ]
  },
  {
   "cell_type": "code",
   "execution_count": 108,
   "id": "c07e5b69",
   "metadata": {
    "scrolled": true
   },
   "outputs": [
    {
     "name": "stdout",
     "output_type": "stream",
     "text": [
      "(2.7967910692247244, 1.1281423315424424, -8.898925997047229, 72.72991327365673)\n"
     ]
    },
    {
     "data": {
      "image/png": "[encoded data removed]",
      "text/plain": [
       "<Figure size 432x288 with 1 Axes>"
      ]
     },
     "metadata": {
      "needs_background": "light"
     },
     "output_type": "display_data"
    }
   ],
   "source": [
    "print(weilbulldistr)\n",
    "xgrid = np.arange(250)\n",
    "plt.plot(xgrid, stats.exponweib(weilbulldistr[0], weilbulldistr[1]).pdf(xgrid))\n",
    "plt.show()"
   ]
  },
  {
   "cell_type": "markdown",
   "id": "3bdf004e",
   "metadata": {},
   "source": [
    "Idea: Pareto distribution"
   ]
  },
  {
   "cell_type": "code",
   "execution_count": 119,
   "id": "ae35adff",
   "metadata": {
    "scrolled": false
   },
   "outputs": [
    {
     "data": {
      "image/png": "[encoded data removed]",
      "text/plain": [
       "<Figure size 1440x720 with 2 Axes>"
      ]
     },
     "metadata": {
      "needs_background": "light"
     },
     "output_type": "display_data"
    }
   ],
   "source": [
    "fig, axs = plt.subplots(1, 2, figsize=(20, 10))\n",
    "\n",
    "axs[0].hist(dataset['num_tracks'])\n",
    "axs[1].hist(dataset['num_tracks'], density=True)\n",
    "#alpha, k, _, _ = stats.exponweib.fit(dataset['num_tracks'])\n",
    "xgrid = np.arange(250)\n",
    "c, _ , _ = stats.genpareto.fit(dataset['num_tracks'])\n",
    "len(dist)\n",
    "axs[1].plot(xgrid, stats.genpareto(c).pdf(xgrid))\n",
    "\n",
    "plt.show()"
   ]
  },
  {
   "cell_type": "markdown",
   "id": "4464cfb9",
   "metadata": {},
   "source": [
    "Idea: chi2"
   ]
  },
  {
   "cell_type": "code",
   "execution_count": 124,
   "id": "62f4108a",
   "metadata": {
    "scrolled": false
   },
   "outputs": [
    {
     "data": {
      "image/png": "[encoded data removed]",
      "text/plain": [
       "<Figure size 1440x720 with 2 Axes>"
      ]
     },
     "metadata": {
      "needs_background": "light"
     },
     "output_type": "display_data"
    }
   ],
   "source": [
    "fig, axs = plt.subplots(1, 2, figsize=(20, 10))\n",
    "\n",
    "axs[0].hist(dataset['num_tracks'])\n",
    "axs[1].hist(dataset['num_tracks'], density=True)\n",
    "#alpha, k, _, _ = stats.exponweib.fit(dataset['num_tracks'])\n",
    "xgrid = np.arange(250)\n",
    "df, _ , _ = stats.chi2.fit(dataset['num_tracks'])\n",
    "axs[1].plot(xgrid, stats.chi2(df, _, _).pdf(xgrid))\n",
    "\n",
    "plt.show()"
   ]
  },
  {
   "cell_type": "markdown",
   "id": "dd992b68",
   "metadata": {},
   "source": [
    "## What is the number of unique tracks?:"
   ]
  },
  {
   "cell_type": "code",
   "execution_count": 86,
   "id": "c41a86db",
   "metadata": {},
   "outputs": [],
   "source": [
    "dataset = get_data_tracks(pre=True)"
   ]
  },
  {
   "cell_type": "code",
   "execution_count": 87,
   "id": "c56b7562",
   "metadata": {
    "scrolled": false
   },
   "outputs": [
    {
     "data": {
      "text/html": [
       "<div>\n",
       "<style scoped>\n",
       "    .dataframe tbody tr th:only-of-type {\n",
       "        vertical-align: middle;\n",
       "    }\n",
       "\n",
       "    .dataframe tbody tr th {\n",
       "        vertical-align: top;\n",
       "    }\n",
       "\n",
       "    .dataframe thead th {\n",
       "        text-align: right;\n",
       "    }\n",
       "</style>\n",
       "<table border=\"1\" class=\"dataframe\">\n",
       "  <thead>\n",
       "    <tr style=\"text-align: right;\">\n",
       "      <th></th>\n",
       "      <th></th>\n",
       "      <th></th>\n",
       "      <th></th>\n",
       "      <th></th>\n",
       "      <th></th>\n",
       "      <th></th>\n",
       "      <th>artist_name</th>\n",
       "      <th>track_uri</th>\n",
       "      <th>artist_uri</th>\n",
       "      <th>track_name</th>\n",
       "      <th>album_uri</th>\n",
       "      <th>duration_ms</th>\n",
       "      <th>album_name</th>\n",
       "    </tr>\n",
       "    <tr>\n",
       "      <th>pid</th>\n",
       "      <th>name</th>\n",
       "      <th>num_tracks</th>\n",
       "      <th>num_albums</th>\n",
       "      <th>num_followers</th>\n",
       "      <th>num_artists</th>\n",
       "      <th>pos</th>\n",
       "      <th></th>\n",
       "      <th></th>\n",
       "      <th></th>\n",
       "      <th></th>\n",
       "      <th></th>\n",
       "      <th></th>\n",
       "      <th></th>\n",
       "    </tr>\n",
       "  </thead>\n",
       "  <tbody>\n",
       "    <tr>\n",
       "      <th rowspan=\"5\" valign=\"top\">0</th>\n",
       "      <th rowspan=\"5\" valign=\"top\">Throwbacks</th>\n",
       "      <th rowspan=\"5\" valign=\"top\">52</th>\n",
       "      <th rowspan=\"5\" valign=\"top\">47</th>\n",
       "      <th rowspan=\"5\" valign=\"top\">1</th>\n",
       "      <th rowspan=\"5\" valign=\"top\">37</th>\n",
       "      <th>0</th>\n",
       "      <td>Missy Elliott</td>\n",
       "      <td>spotify:track:0UaMYEvWZi0ZqiDOoHU3YI</td>\n",
       "      <td>spotify:artist:2wIVse2owClT7go1WT98tk</td>\n",
       "      <td>Lose Control (feat. Ciara &amp; Fat Man Scoop)</td>\n",
       "      <td>spotify:album:6vV5UrXcfyQD1wu4Qo2I9K</td>\n",
       "      <td>226863</td>\n",
       "      <td>The Cookbook</td>\n",
       "    </tr>\n",
       "    <tr>\n",
       "      <th>1</th>\n",
       "      <td>Britney Spears</td>\n",
       "      <td>spotify:track:6I9VzXrHxO9rA9A5euc8Ak</td>\n",
       "      <td>spotify:artist:26dSoYclwsYLMAKD3tpOr4</td>\n",
       "      <td>Toxic</td>\n",
       "      <td>spotify:album:0z7pVBGOD7HCIB7S8eLkLI</td>\n",
       "      <td>198800</td>\n",
       "      <td>In The Zone</td>\n",
       "    </tr>\n",
       "    <tr>\n",
       "      <th>2</th>\n",
       "      <td>Beyoncé</td>\n",
       "      <td>spotify:track:0WqIKmW4BTrj3eJFmnCKMv</td>\n",
       "      <td>spotify:artist:6vWDO969PvNqNYHIOW5v0m</td>\n",
       "      <td>Crazy In Love</td>\n",
       "      <td>spotify:album:25hVFAxTlDvXbx2X2QkUkE</td>\n",
       "      <td>235933</td>\n",
       "      <td>Dangerously In Love (Alben für die Ewigkeit)</td>\n",
       "    </tr>\n",
       "    <tr>\n",
       "      <th>3</th>\n",
       "      <td>Justin Timberlake</td>\n",
       "      <td>spotify:track:1AWQoqb9bSvzTjaLralEkT</td>\n",
       "      <td>spotify:artist:31TPClRtHm23RisEBtV3X7</td>\n",
       "      <td>Rock Your Body</td>\n",
       "      <td>spotify:album:6QPkyl04rXwTGlGlcYaRoW</td>\n",
       "      <td>267266</td>\n",
       "      <td>Justified</td>\n",
       "    </tr>\n",
       "    <tr>\n",
       "      <th>4</th>\n",
       "      <td>Shaggy</td>\n",
       "      <td>spotify:track:1lzr43nnXAijIGYnCT8M8H</td>\n",
       "      <td>spotify:artist:5EvFsr3kj42KNv97ZEnqij</td>\n",
       "      <td>It Wasn't Me</td>\n",
       "      <td>spotify:album:6NmFmPX56pcLBOFMhIiKvF</td>\n",
       "      <td>227600</td>\n",
       "      <td>Hot Shot</td>\n",
       "    </tr>\n",
       "    <tr>\n",
       "      <th>...</th>\n",
       "      <th>...</th>\n",
       "      <th>...</th>\n",
       "      <th>...</th>\n",
       "      <th>...</th>\n",
       "      <th>...</th>\n",
       "      <th>...</th>\n",
       "      <td>...</td>\n",
       "      <td>...</td>\n",
       "      <td>...</td>\n",
       "      <td>...</td>\n",
       "      <td>...</td>\n",
       "      <td>...</td>\n",
       "      <td>...</td>\n",
       "    </tr>\n",
       "    <tr>\n",
       "      <th rowspan=\"5\" valign=\"top\">19999</th>\n",
       "      <th rowspan=\"5\" valign=\"top\">flow</th>\n",
       "      <th rowspan=\"5\" valign=\"top\">10</th>\n",
       "      <th rowspan=\"5\" valign=\"top\">10</th>\n",
       "      <th rowspan=\"5\" valign=\"top\">1</th>\n",
       "      <th rowspan=\"5\" valign=\"top\">9</th>\n",
       "      <th>5</th>\n",
       "      <td>Coldplay</td>\n",
       "      <td>spotify:track:7D0RhFcb3CrfPuTJ0obrod</td>\n",
       "      <td>spotify:artist:4gzpq5DPGxSnKTe4SA8HAU</td>\n",
       "      <td>Sparks</td>\n",
       "      <td>spotify:album:6ZG5lRT77aJ3btmArcykra</td>\n",
       "      <td>227093</td>\n",
       "      <td>Parachutes</td>\n",
       "    </tr>\n",
       "    <tr>\n",
       "      <th>6</th>\n",
       "      <td>Ed Sheeran</td>\n",
       "      <td>spotify:track:51ChrwmUPDJvedPQnIU8Ls</td>\n",
       "      <td>spotify:artist:6eUKZXaKkcviH0Ku9w2n3V</td>\n",
       "      <td>Dive</td>\n",
       "      <td>spotify:album:3T4tUhGYeRNVUGevb0wThu</td>\n",
       "      <td>238440</td>\n",
       "      <td>÷</td>\n",
       "    </tr>\n",
       "    <tr>\n",
       "      <th>7</th>\n",
       "      <td>Grizzly Bear</td>\n",
       "      <td>spotify:track:0iTpQYzJnYgh7kIxyq8A2O</td>\n",
       "      <td>spotify:artist:2Jv5eshHtLycR6R8KQCdc4</td>\n",
       "      <td>Two Weeks</td>\n",
       "      <td>spotify:album:6FIFqclBriPCb0SjWDaHIk</td>\n",
       "      <td>243160</td>\n",
       "      <td>Veckatimest</td>\n",
       "    </tr>\n",
       "    <tr>\n",
       "      <th>8</th>\n",
       "      <td>Perfume Genius</td>\n",
       "      <td>spotify:track:3Gda1sTo2ZjbztjjsnAsP3</td>\n",
       "      <td>spotify:artist:2ueoLVCXQ948OfhVvAy3Nn</td>\n",
       "      <td>Slip Away</td>\n",
       "      <td>spotify:album:7awgq3vvlsIeA7dZduR9x4</td>\n",
       "      <td>165329</td>\n",
       "      <td>No Shape</td>\n",
       "    </tr>\n",
       "    <tr>\n",
       "      <th>9</th>\n",
       "      <td>Tennis</td>\n",
       "      <td>spotify:track:79sKMNtZ3Q4UOxPZ6BSfm9</td>\n",
       "      <td>spotify:artist:1ybAN3utgdoUL1MUCtH4QM</td>\n",
       "      <td>In The Morning I'll Be Better</td>\n",
       "      <td>spotify:album:0zyV8NuG1ZxxCrVnSqpeVS</td>\n",
       "      <td>213173</td>\n",
       "      <td>Yours Conditionally</td>\n",
       "    </tr>\n",
       "  </tbody>\n",
       "</table>\n",
       "<p>1333407 rows × 7 columns</p>\n",
       "</div>"
      ],
      "text/plain": [
       "                                                                            artist_name  \\\n",
       "pid   name       num_tracks num_albums num_followers num_artists pos                      \n",
       "0     Throwbacks 52         47         1             37          0        Missy Elliott   \n",
       "                                                                 1       Britney Spears   \n",
       "                                                                 2              Beyoncé   \n",
       "                                                                 3    Justin Timberlake   \n",
       "                                                                 4               Shaggy   \n",
       "...                                                                                 ...   \n",
       "19999 flow       10         10         1             9           5             Coldplay   \n",
       "                                                                 6           Ed Sheeran   \n",
       "                                                                 7         Grizzly Bear   \n",
       "                                                                 8       Perfume Genius   \n",
       "                                                                 9               Tennis   \n",
       "\n",
       "                                                                                                 track_uri  \\\n",
       "pid   name       num_tracks num_albums num_followers num_artists pos                                         \n",
       "0     Throwbacks 52         47         1             37          0    spotify:track:0UaMYEvWZi0ZqiDOoHU3YI   \n",
       "                                                                 1    spotify:track:6I9VzXrHxO9rA9A5euc8Ak   \n",
       "                                                                 2    spotify:track:0WqIKmW4BTrj3eJFmnCKMv   \n",
       "                                                                 3    spotify:track:1AWQoqb9bSvzTjaLralEkT   \n",
       "                                                                 4    spotify:track:1lzr43nnXAijIGYnCT8M8H   \n",
       "...                                                                                                    ...   \n",
       "19999 flow       10         10         1             9           5    spotify:track:7D0RhFcb3CrfPuTJ0obrod   \n",
       "                                                                 6    spotify:track:51ChrwmUPDJvedPQnIU8Ls   \n",
       "                                                                 7    spotify:track:0iTpQYzJnYgh7kIxyq8A2O   \n",
       "                                                                 8    spotify:track:3Gda1sTo2ZjbztjjsnAsP3   \n",
       "                                                                 9    spotify:track:79sKMNtZ3Q4UOxPZ6BSfm9   \n",
       "\n",
       "                                                                                                 artist_uri  \\\n",
       "pid   name       num_tracks num_albums num_followers num_artists pos                                          \n",
       "0     Throwbacks 52         47         1             37          0    spotify:artist:2wIVse2owClT7go1WT98tk   \n",
       "                                                                 1    spotify:artist:26dSoYclwsYLMAKD3tpOr4   \n",
       "                                                                 2    spotify:artist:6vWDO969PvNqNYHIOW5v0m   \n",
       "                                                                 3    spotify:artist:31TPClRtHm23RisEBtV3X7   \n",
       "                                                                 4    spotify:artist:5EvFsr3kj42KNv97ZEnqij   \n",
       "...                                                                                                     ...   \n",
       "19999 flow       10         10         1             9           5    spotify:artist:4gzpq5DPGxSnKTe4SA8HAU   \n",
       "                                                                 6    spotify:artist:6eUKZXaKkcviH0Ku9w2n3V   \n",
       "                                                                 7    spotify:artist:2Jv5eshHtLycR6R8KQCdc4   \n",
       "                                                                 8    spotify:artist:2ueoLVCXQ948OfhVvAy3Nn   \n",
       "                                                                 9    spotify:artist:1ybAN3utgdoUL1MUCtH4QM   \n",
       "\n",
       "                                                                                                      track_name  \\\n",
       "pid   name       num_tracks num_albums num_followers num_artists pos                                               \n",
       "0     Throwbacks 52         47         1             37          0    Lose Control (feat. Ciara & Fat Man Scoop)   \n",
       "                                                                 1                                         Toxic   \n",
       "                                                                 2                                 Crazy In Love   \n",
       "                                                                 3                                Rock Your Body   \n",
       "                                                                 4                                  It Wasn't Me   \n",
       "...                                                                                                          ...   \n",
       "19999 flow       10         10         1             9           5                                        Sparks   \n",
       "                                                                 6                                          Dive   \n",
       "                                                                 7                                     Two Weeks   \n",
       "                                                                 8                                     Slip Away   \n",
       "                                                                 9                 In The Morning I'll Be Better   \n",
       "\n",
       "                                                                                                 album_uri  \\\n",
       "pid   name       num_tracks num_albums num_followers num_artists pos                                         \n",
       "0     Throwbacks 52         47         1             37          0    spotify:album:6vV5UrXcfyQD1wu4Qo2I9K   \n",
       "                                                                 1    spotify:album:0z7pVBGOD7HCIB7S8eLkLI   \n",
       "                                                                 2    spotify:album:25hVFAxTlDvXbx2X2QkUkE   \n",
       "                                                                 3    spotify:album:6QPkyl04rXwTGlGlcYaRoW   \n",
       "                                                                 4    spotify:album:6NmFmPX56pcLBOFMhIiKvF   \n",
       "...                                                                                                    ...   \n",
       "19999 flow       10         10         1             9           5    spotify:album:6ZG5lRT77aJ3btmArcykra   \n",
       "                                                                 6    spotify:album:3T4tUhGYeRNVUGevb0wThu   \n",
       "                                                                 7    spotify:album:6FIFqclBriPCb0SjWDaHIk   \n",
       "                                                                 8    spotify:album:7awgq3vvlsIeA7dZduR9x4   \n",
       "                                                                 9    spotify:album:0zyV8NuG1ZxxCrVnSqpeVS   \n",
       "\n",
       "                                                                      duration_ms  \\\n",
       "pid   name       num_tracks num_albums num_followers num_artists pos                \n",
       "0     Throwbacks 52         47         1             37          0         226863   \n",
       "                                                                 1         198800   \n",
       "                                                                 2         235933   \n",
       "                                                                 3         267266   \n",
       "                                                                 4         227600   \n",
       "...                                                                           ...   \n",
       "19999 flow       10         10         1             9           5         227093   \n",
       "                                                                 6         238440   \n",
       "                                                                 7         243160   \n",
       "                                                                 8         165329   \n",
       "                                                                 9         213173   \n",
       "\n",
       "                                                                                                        album_name  \n",
       "pid   name       num_tracks num_albums num_followers num_artists pos                                                \n",
       "0     Throwbacks 52         47         1             37          0                                    The Cookbook  \n",
       "                                                                 1                                     In The Zone  \n",
       "                                                                 2    Dangerously In Love (Alben für die Ewigkeit)  \n",
       "                                                                 3                                       Justified  \n",
       "                                                                 4                                        Hot Shot  \n",
       "...                                                                                                            ...  \n",
       "19999 flow       10         10         1             9           5                                      Parachutes  \n",
       "                                                                 6                                               ÷  \n",
       "                                                                 7                                     Veckatimest  \n",
       "                                                                 8                                        No Shape  \n",
       "                                                                 9                             Yours Conditionally  \n",
       "\n",
       "[1333407 rows x 7 columns]"
      ]
     },
     "execution_count": 87,
     "metadata": {},
     "output_type": "execute_result"
    }
   ],
   "source": [
    "dataset"
   ]
  },
  {
   "cell_type": "code",
   "execution_count": 91,
   "id": "cdf096be",
   "metadata": {},
   "outputs": [
    {
     "name": "stdout",
     "output_type": "stream",
     "text": [
      "the total number of tracks: 1333407, \n",
      "the number of unique tracks: 263469, \n",
      "the ratio of unique tracks per playlist: 5.0609635289161155\n"
     ]
    }
   ],
   "source": [
    "num_total_tracks = len(dataset['track_uri'])\n",
    "#num_unique_tracks = len(dataset['track_uri'].unique())\n",
    "num_unique_tracks = dataset['track_uri'].nunique()\n",
    "ratio_playlist_unique_tracks = len(dataset.index)/num_unique_tracks\n",
    "print(f'the total number of tracks: {num_total_tracks}, \\nthe number of unique tracks: {num_unique_tracks}, \\nthe ratio of unique tracks per playlist: {ratio_playlist_unique_tracks}')"
   ]
  },
  {
   "cell_type": "markdown",
   "id": "44baa0a8",
   "metadata": {},
   "source": [
    "### Idea:\n",
    "cumulative number of unique tracks as function -> hypothesis: there is a logarithmic function (later added playlist have no/nearly no effect) alternative linear function (with every playlist comes (round about) 2 new/unique tracks"
   ]
  },
  {
   "cell_type": "code",
   "execution_count": 89,
   "id": "1d7aaa45",
   "metadata": {},
   "outputs": [],
   "source": [
    "dataset = dataset.reset_index()"
   ]
  },
  {
   "cell_type": "code",
   "execution_count": 90,
   "id": "9421c8b2",
   "metadata": {
    "scrolled": true
   },
   "outputs": [
    {
     "data": {
      "image/png": "[encoded data removed]",
      "text/plain": [
       "<Figure size 432x288 with 1 Axes>"
      ]
     },
     "metadata": {
      "needs_background": "light"
     },
     "output_type": "display_data"
    }
   ],
   "source": [
    "cum_unique_tracks = []\n",
    "total_tracks = []\n",
    "# note:\n",
    "# plt.plot(dataset['track_uri'].cumsum()) \n",
    "# print(tmp.cumsum()) #numpy.cumsum()\n",
    "#use (both) full ram -> no chance to use\n",
    "\n",
    "#tmp = dataset['track_uri'].to_numpy()\n",
    "#for i in range(len(tmp)):\n",
    "    #cum_unique_tracks.append(len(np.unique(tmp[:i+1])))\n",
    "\n",
    "#dataset = dataset.reset_index()\n",
    "dataset_groups = dataset.groupby(['pid', 'name', 'num_tracks', 'num_albums', 'num_followers', 'num_artists'])\n",
    "\n",
    "for group in dataset_groups:\n",
    "    #print(group[1]['track_uri'])\n",
    "    total_tracks.extend(group[1]['track_uri'].to_numpy())\n",
    "    cum_unique_tracks.append(len(np.unique(total_tracks)))\n",
    "    \n",
    "#plt.plot(cum_unique_tracks)\n",
    "#plt.show()\n"
   ]
  },
  {
   "cell_type": "code",
   "execution_count": null,
   "id": "c6d92e99",
   "metadata": {},
   "outputs": [],
   "source": [
    "plt.plot(cum_unique_tracks)\n",
    "plt.show()"
   ]
  },
  {
   "cell_type": "code",
   "execution_count": null,
   "id": "204031c1",
   "metadata": {},
   "outputs": [],
   "source": [
    "#17:08 -> 19:02??? (20,000 Playlists)\n",
    "\n",
    "#idea ploting is own cell"
   ]
  },
  {
   "cell_type": "markdown",
   "id": "18a22285",
   "metadata": {},
   "source": [
    "### Idea:\n",
    "Are there missmatches between uri and trackname?"
   ]
  },
  {
   "cell_type": "code",
   "execution_count": null,
   "id": "983c48a1",
   "metadata": {},
   "outputs": [],
   "source": []
  }
 ],
 "metadata": {
  "kernelspec": {
   "display_name": "Python 3 (ipykernel)",
   "language": "python",
   "name": "python3"
  },
  "language_info": {
   "codemirror_mode": {
    "name": "ipython",
    "version": 3
   },
   "file_extension": ".py",
   "mimetype": "text/x-python",
   "name": "python",
   "nbconvert_exporter": "python",
   "pygments_lexer": "ipython3",
   "version": "3.10.2"
  }
 },
 "nbformat": 4,
 "nbformat_minor": 5
}
