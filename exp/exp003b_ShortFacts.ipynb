{
 "cells": [
  {
   "cell_type": "markdown",
   "id": "c7d39441",
   "metadata": {},
   "source": [
    "# Experiment 003: *Short facts*"
   ]
  },
  {
   "cell_type": "code",
   "execution_count": 1,
   "id": "1e1a3cd1",
   "metadata": {},
   "outputs": [
    {
     "name": "stderr",
     "output_type": "stream",
     "text": [
      "UsageError: Line magic function `%matplobtlib` not found.\n"
     ]
    }
   ],
   "source": [
    "'''import standard libraries'''\n",
    "import numpy as np                       # mathematical methods\n",
    "from matplotlib import pyplot as plt     # plotting methods within notebook\n",
    "from scipy import stats                  # lots of statistical methods\n",
    "import pandas as pd\n",
    "import datetime\n",
    "from tueplots import bundles\n",
    "import json\n",
    "from collections import Counter\n",
    "from tabulate import tabulate\n",
    "%matplobtlib inline"
   ]
  },
  {
   "cell_type": "code",
   "execution_count": 2,
   "id": "796c1ae1",
   "metadata": {},
   "outputs": [],
   "source": [
    "import os\n",
    "os.chdir('../')\n",
    "\n",
    "\n",
    "from src.get_data import get_data\n",
    "from src.get_data_tracks import get_data_tracks\n",
    "from src.save_data import save_data\n",
    "\n",
    "plt.rcParams.update(bundles.neurips2021(usetex=False))"
   ]
  },
  {
   "cell_type": "markdown",
   "id": "ee7bd4a8",
   "metadata": {},
   "source": [
    "## Hypothesis:\n",
    "\n",
    "We want to get some short facts about the playlists, like for example:\n",
    "- What is the average playlist length (tracks and duration)\n",
    "- What is the number of unique tracks?\n",
    "- What is the number of unique albums?\n",
    "- What is the number of unique artists?\n",
    "- What is the most common playlist name?"
   ]
  },
  {
   "cell_type": "markdown",
   "id": "3d7056fd",
   "metadata": {},
   "source": [
    "#### 1. get data + number of playlist"
   ]
  },
  {
   "cell_type": "code",
   "execution_count": 3,
   "id": "6b3a2416",
   "metadata": {
    "scrolled": false
   },
   "outputs": [
    {
     "name": "stdout",
     "output_type": "stream",
     "text": [
      "The computed dataset has 100,000 playlist.\n"
     ]
    }
   ],
   "source": [
    "dataset = get_data(pre=True)\n",
    "print(f'The computed dataset has {dataset.shape[0]:,} playlist.')\n",
    "save_data('SizeDataset', f'{dataset.shape[0]:,}')"
   ]
  },
  {
   "cell_type": "markdown",
   "id": "3855f8dc",
   "metadata": {},
   "source": [
    "#### 2. get data (tracks) + number of tracks"
   ]
  },
  {
   "cell_type": "code",
   "execution_count": 4,
   "id": "17a4a30b",
   "metadata": {},
   "outputs": [
    {
     "name": "stdout",
     "output_type": "stream",
     "text": [
      "The computed dataset has 6,677,800 tracks (total)\n",
      "The computed dataset has 681,805 tracks (unique)\n",
      "The ration between total and unique is 9.794296023056447\n"
     ]
    }
   ],
   "source": [
    "dataset_tracks = get_data_tracks(pre=True)\n",
    "total_tracks = dataset_tracks.shape[0]\n",
    "unique_tracks = len(dataset_tracks[\"track_uri\"].unique())\n",
    "ratio = total_tracks / unique_tracks\n",
    "print(f'The computed dataset has {total_tracks:,} tracks (total)')\n",
    "print(f'The computed dataset has {unique_tracks:,} tracks (unique)')\n",
    "print(f'The ration between total and unique is {ratio}')\n",
    "save_data('total_tracks', f'{total_tracks:,}')\n",
    "save_data('unique_tracks', f'{unique_tracks:,}')\n",
    "save_data('ratio', f'{ratio:.3f}')"
   ]
  },
  {
   "cell_type": "markdown",
   "id": "374070df",
   "metadata": {},
   "source": [
    "#### 3. number of artists"
   ]
  },
  {
   "cell_type": "code",
   "execution_count": 5,
   "id": "dcab4ea4",
   "metadata": {},
   "outputs": [
    {
     "name": "stdout",
     "output_type": "stream",
     "text": [
      "The computed dataset has 110,063 artists (unique)\n"
     ]
    }
   ],
   "source": [
    "print(f'The computed dataset has {len(dataset_tracks[\"artist_uri\"].unique()):,} artists (unique)')\n",
    "save_data('artists_unique', f'{len(dataset_tracks[\"artist_uri\"].unique()):,}')"
   ]
  },
  {
   "cell_type": "markdown",
   "id": "e04a8a57",
   "metadata": {},
   "source": [
    "#### 4. number of albums"
   ]
  },
  {
   "cell_type": "code",
   "execution_count": 6,
   "id": "246c7e80",
   "metadata": {
    "scrolled": true
   },
   "outputs": [
    {
     "name": "stdout",
     "output_type": "stream",
     "text": [
      "The computed dataset has 271,413 albums (unique)\n"
     ]
    }
   ],
   "source": [
    "print(f'The computed dataset has {len(dataset_tracks[\"album_uri\"].unique()):,} albums (unique)')\n",
    "save_data('albums_unique', f'{len(dataset_tracks[\"album_uri\"].unique()):,}')"
   ]
  },
  {
   "cell_type": "markdown",
   "id": "b53b8c25",
   "metadata": {},
   "source": [
    "#### 5. duration"
   ]
  },
  {
   "cell_type": "code",
   "execution_count": 23,
   "id": "9c8f8a41",
   "metadata": {
    "scrolled": true
   },
   "outputs": [
    {
     "name": "stdout",
     "output_type": "stream",
     "text": [
      "The computed dataset has a total duration of 1,565,935,156,055 ms\n",
      "The computed dataset has a average duration of 15,659,351.561 ms\n"
     ]
    }
   ],
   "source": [
    "total_duration = dataset['duration_ms'].sum()\n",
    "average_duration = total_duration/len(dataset)\n",
    "print(f'The computed dataset has a total duration of {total_duration:,} ms')\n",
    "print(f'The computed dataset has a average duration of {average_duration:,.3f} ms')\n",
    "save_data('total_duration', f'{total_duration:,}')\n",
    "save_data('average_duration', f'{average_duration:,.3f}')"
   ]
  },
  {
   "cell_type": "code",
   "execution_count": 8,
   "id": "44249e2b",
   "metadata": {},
   "outputs": [],
   "source": [
    "def convert_ms(ms:float) -> str:\n",
    "    duration = datetime.timedelta(milliseconds=ms)\n",
    "    return f'{duration}'"
   ]
  },
  {
   "cell_type": "code",
   "execution_count": 9,
   "id": "cd630fd3",
   "metadata": {},
   "outputs": [
    {
     "name": "stdout",
     "output_type": "stream",
     "text": [
      "The computed dataset has a total duration of 18124 days, 5:59:16.055000 ms\n",
      "The computed dataset has a average duration of 4:20:59.351561 ms\n"
     ]
    }
   ],
   "source": [
    "converted_total_duration = convert_ms(float(total_duration))\n",
    "converted_average_duration = convert_ms(float(average_duration))\n",
    "print(f'The computed dataset has a total duration of {converted_total_duration} ms')\n",
    "print(f'The computed dataset has a average duration of {converted_average_duration} ms')\n",
    "save_data('converted_total_duration', converted_total_duration)\n",
    "save_data('converted_average_duration', converted_average_duration)"
   ]
  },
  {
   "cell_type": "markdown",
   "id": "b9bd944a",
   "metadata": {},
   "source": [
    "#### 6. track duration"
   ]
  },
  {
   "cell_type": "code",
   "execution_count": 10,
   "id": "726ad118",
   "metadata": {},
   "outputs": [
    {
     "name": "stdout",
     "output_type": "stream",
     "text": [
      "In the computed dataset is the average duration of a track 234,498.661 ms\n"
     ]
    }
   ],
   "source": [
    "average_track_duration = dataset_tracks['duration_ms'].mean()\n",
    "print(f'In the computed dataset is the average duration of a track {average_track_duration:,.3f} ms')\n",
    "save_data('average_track_duration', f'{average_track_duration:,.3f}')"
   ]
  },
  {
   "cell_type": "code",
   "execution_count": 11,
   "id": "31460ea3",
   "metadata": {
    "scrolled": true
   },
   "outputs": [
    {
     "name": "stdout",
     "output_type": "stream",
     "text": [
      "In the computed dataset is the average duration of a track 0:03:54.498661\n"
     ]
    }
   ],
   "source": [
    "converted_average_track_duration = convert_ms(average_track_duration)\n",
    "print(f'In the computed dataset is the average duration of a track {converted_average_track_duration}')\n",
    "save_data('converted_average_track_duration', converted_average_track_duration)"
   ]
  },
  {
   "cell_type": "markdown",
   "id": "ff187d39",
   "metadata": {},
   "source": [
    "#### 7. figure: average track duration + average number of tracks"
   ]
  },
  {
   "cell_type": "code",
   "execution_count": 70,
   "id": "11c0c0e0",
   "metadata": {},
   "outputs": [],
   "source": [
    "average_numtracks_timeline = []\n",
    "total_tracks = 0\n",
    "sem_timeline_track = []\n",
    "data_rows_track = []\n",
    "for i, num_tracks in enumerate(dataset['num_tracks']):\n",
    "    data_rows_track.append(num_tracks)\n",
    "    total_tracks += num_tracks\n",
    "    average_numtracks_timeline.append(total_tracks / (i+1))\n",
    "    if i > 1:\n",
    "        sem_timeline_track.append(stats.sem(data_rows_track))\n",
    "    else:\n",
    "        sem_timeline_track.append(0)\n",
    "    \n",
    "average_numtracks = dataset['num_tracks'].mean()\n",
    "save_data('average_numtracks', f'{average_numtracks:.3f}')\n",
    "save_data('approx_average_numtracks', f'{average_numtracks:.0f}')"
   ]
  },
  {
   "cell_type": "code",
   "execution_count": 31,
   "id": "6dd63b3e",
   "metadata": {},
   "outputs": [],
   "source": [
    "cal_average_playlist_duration = average_track_duration * average_numtracks\n",
    "save_data('cal_average_playlist_duration', f'{cal_average_playlist_duration:,.3f}')\n",
    "save_data('converted_cal_average_playlist_duration', convert_ms(cal_average_playlist_duration))"
   ]
  },
  {
   "cell_type": "code",
   "execution_count": 67,
   "id": "cb2edf38",
   "metadata": {},
   "outputs": [],
   "source": [
    "total_dur = 0\n",
    "average_duration_timeline = []\n",
    "sem_timeline_dur = []\n",
    "data_rows_dur = []\n",
    "for i, duration_ms in enumerate(dataset['duration_ms']):\n",
    "    data_rows_dur.append(duration_ms)\n",
    "    total_dur += duration_ms\n",
    "    average_duration_timeline.append(total_dur / (i+1))\n",
    "    if i > 1:\n",
    "        sem_timeline_dur.append(stats.sem(data_rows_dur))\n",
    "    else:\n",
    "        sem_timeline_dur.append(0)\n",
    "    \n",
    "average_duration = dataset['duration_ms'].mean()"
   ]
  },
  {
   "cell_type": "code",
   "execution_count": 82,
   "id": "01aace11",
   "metadata": {
    "scrolled": true
   },
   "outputs": [
    {
     "data": {
      "image/png": "[encoded data removed]",
      "text/plain": [
       "<Figure size 720x360 with 1 Axes>"
      ]
     },
     "metadata": {
      "needs_background": "light"
     },
     "output_type": "display_data"
    }
   ],
   "source": [
    "#fig, axs = plt.subplots(1, 2, figsize=(10, 3))\n",
    "fig, axs = plt.subplots(1, 1, figsize=(10, 5))\n",
    "\n",
    "#axs[0].axhline(y=average_numtracks, color='#191414', linestyle='--')\n",
    "#axs[0].fill_between(range(len(sem_timeline_track)), [average_numtracks_timeline[i] + sem_timeline_track[i] for i in range(len(sem_timeline_track))], [average_numtracks_timeline[i] - sem_timeline_track[i]  for i in range(len(sem_timeline_track))], color='#C5F6D6')\n",
    "#axs[0].plot(average_numtracks_timeline, color='#1DB954')\n",
    "#axs[0].set_title('Average Number of Tracks in a Playlist')\n",
    "#axs[0].set_xlabel('Playlists')\n",
    "#axs[0].set_ylabel('Arithmetic Mean')\n",
    "axs.axhline(y=average_numtracks, color='#191414', linestyle='--')\n",
    "axs.fill_between(range(len(sem_timeline_track)), [average_numtracks_timeline[i] + sem_timeline_track[i] for i in range(len(sem_timeline_track))], [average_numtracks_timeline[i] - sem_timeline_track[i]  for i in range(len(sem_timeline_track))], color='#C5F6D6')\n",
    "axs.plot(average_numtracks_timeline, color='#1DB954')\n",
    "axs.set_title('Average Number of Tracks in a Playlist')\n",
    "axs.set_xlabel('Playlists')\n",
    "axs.set_ylabel('Arithmetic Mean')\n",
    "\n",
    "#axs[1].axhline(y=average_duration, color='#191414', linestyle='--')\n",
    "#axs[1].fill_between(range(len(sem_timeline_dur)), [average_duration_timeline[i] + sem_timeline_dur[i] for i in range(len(sem_timeline_dur))], [average_duration_timeline[i] - sem_timeline_dur[i]  for i in range(len(sem_timeline_dur))], color='#C5F6D6')\n",
    "#axs[1].plot(average_duration_timeline, color='#1DB954')\n",
    "#axs[1].set_title('Average Duration of a Playlist')\n",
    "#axs[1].set_xlabel('Playlists')\n",
    "#axs[1].set_ylabel('Arithmetic Mean [ms]')\n",
    "\n",
    "plt.savefig('doc/fig/averageTrack.pdf', bbox_inches='tight')\n",
    "plt.show()"
   ]
  },
  {
   "cell_type": "code",
   "execution_count": 15,
   "id": "1a1d8f48",
   "metadata": {
    "scrolled": true
   },
   "outputs": [
    {
     "data": {
      "image/png": "[encoded data removed]",
      "text/plain": [
       "<Figure size 1440x288 with 2 Axes>"
      ]
     },
     "metadata": {
      "needs_background": "light"
     },
     "output_type": "display_data"
    }
   ],
   "source": [
    "fig, axs = plt.subplots(1, 2, figsize=(20, 4))\n",
    "\n",
    "axs[0].axhline(y=average_numtracks, color='#191414', linestyle='--')\n",
    "axs[0].plot(average_numtracks_timeline, color='#1DB954')\n",
    "axs[0].set_title('Average Number of Tracks in a Playlist')\n",
    "axs[0].set_xlabel('Playlists')\n",
    "axs[0].set_ylabel('Arithmetic Mean')\n",
    "\n",
    "axs[1].axhline(y=convert_ms(average_duration), color='#191414', linestyle='--')\n",
    "converted = []\n",
    "for entry in average_duration_timeline:\n",
    "    converted.append(convert_ms(entry))\n",
    "axs[1].plot(converted, color='#1DB954')\n",
    "axs[1].set_title('Average Duration of a Playlist')\n",
    "axs[1].set_xlabel('Playlists')\n",
    "axs[1].set_ylabel('Arithmetic Mean')\n",
    "\n",
    "plt.show()"
   ]
  },
  {
   "cell_type": "markdown",
   "id": "e2a77a7b",
   "metadata": {},
   "source": [
    "#### 8. top ten tracks, album, artists"
   ]
  },
  {
   "cell_type": "code",
   "execution_count": 16,
   "id": "9049b6bd",
   "metadata": {},
   "outputs": [],
   "source": [
    "top_15_tracks = []\n",
    "\n",
    "col_track_uris = Counter(dataset_tracks['track_uri'])\n",
    "for i, uri in enumerate(col_track_uris.most_common(15)):\n",
    "    tmp = dataset_tracks.loc[dataset_tracks['track_uri'] == uri[0]]\n",
    "    #['Pos', 'Playlists', 'Track', 'Album', 'Artist']\n",
    "    top_15_tracks.append([i+1, uri[1], tmp['track_name'].values[0], tmp['album_name'].values[0], tmp['artist_name'].values[0]])"
   ]
  },
  {
   "cell_type": "code",
   "execution_count": 17,
   "id": "9caa9f94",
   "metadata": {},
   "outputs": [],
   "source": [
    "top_15_album = []\n",
    "\n",
    "col_album_uris = Counter(dataset_tracks['album_uri'])\n",
    "for i, uri in enumerate(col_album_uris.most_common(15)):\n",
    "    tmp = dataset_tracks.loc[dataset_tracks['album_uri'] == uri[0]]\n",
    "    #['Pos', 'Playlists', 'Album', 'Artist']\n",
    "    top_15_album.append([i+1, uri[1], tmp['album_name'].values[0], tmp['artist_name'].values[0]])"
   ]
  },
  {
   "cell_type": "code",
   "execution_count": 18,
   "id": "bea5cb90",
   "metadata": {
    "scrolled": true
   },
   "outputs": [],
   "source": [
    "top_15_artists = []\n",
    "\n",
    "col_artists_uris = Counter(dataset_tracks['artist_uri'])\n",
    "for i, uri in enumerate(col_artists_uris.most_common(15)):\n",
    "    tmp = dataset_tracks.loc[dataset_tracks['artist_uri'] == uri[0]]\n",
    "    #['Pos', 'Playlists', 'Artist']\n",
    "    top_15_artists.append([i+1, uri[1], tmp['artist_name'].values[0]])"
   ]
  },
  {
   "cell_type": "code",
   "execution_count": 19,
   "id": "4bd55353",
   "metadata": {
    "scrolled": false
   },
   "outputs": [
    {
     "name": "stdout",
     "output_type": "stream",
     "text": [
      "Popular Tracks:\n",
      "  Pos    Playlists  Track                                    Album                    Artist\n",
      "-----  -----------  ---------------------------------------  -----------------------  -----------------\n",
      "    1         4441  HUMBLE.                                  DAMN.                    Kendrick Lamar\n",
      "    2         4240  One Dance                                Views                    Drake\n",
      "    3         4145  Closer                                   Closer                   The Chainsmokers\n",
      "    4         4073  Broccoli (feat. Lil Yachty)              Big Baby DRAM            DRAM\n",
      "    5         3936  Congratulations                          Stoney                   Post Malone\n",
      "    6         3523  Caroline                                 Good For You             Aminé\n",
      "    7         3476  iSpy (feat. Lil Yachty)                  iSpy (feat. Lil Yachty)  KYLE\n",
      "    8         3456  XO TOUR Llif3                            Luv Is Rage 2            Lil Uzi Vert\n",
      "    9         3439  Location                                 American Teen            Khalid\n",
      "   10         3385  Bad and Boujee (feat. Lil Uzi Vert)      Culture                  Migos\n",
      "   11         3221  No Role Modelz                           2014 Forest Hills Drive  J. Cole\n",
      "   12         3202  Ignition - Remix                         Chocolate Factory        R. Kelly\n",
      "   13         3190  Bounce Back                              I Decided.               Big Sean\n",
      "   14         3136  Mask Off                                 FUTURE                   Future\n",
      "   15         3111  No Problem (feat. Lil Wayne & 2 Chainz)  Coloring Book            Chance The Rapper\n",
      " \n",
      "Popular Albums:\n",
      "  Pos    Playlists  Album                      Artist\n",
      "-----  -----------  -------------------------  -----------------\n",
      "    1        15378  Stoney                     Post Malone\n",
      "    2        13710  DAMN.                      Kendrick Lamar\n",
      "    3        13081  Coloring Book              Chance The Rapper\n",
      "    4        12045  American Teen              Khalid\n",
      "    5        11851  Culture                    Migos\n",
      "    6        11448  Beauty Behind The Madness  The Weeknd\n",
      "    7        11418  More Life                  Drake\n",
      "    8        11219  The Life Of Pablo          Kanye West\n",
      "    9        11198  Purpose                    Justin Bieber\n",
      "   10        11113  Views                      Drake\n",
      "   11        10824  2014 Forest Hills Drive    J. Cole\n",
      "   12        10465  Blurryface                 Twenty One Pilots\n",
      "   13        10126  ÷                          Ed Sheeran\n",
      "   14         9902  x                          Ed Sheeran\n",
      "   15         9844  Montevallo                 Sam Hunt\n",
      "\n",
      "Popular Artists:\n",
      "  Pos    Playlists  Artist\n",
      "-----  -----------  ----------------\n",
      "    1        82428  Drake\n",
      "    2        40856  Kanye West\n",
      "    3        34555  Kendrick Lamar\n",
      "    4        33348  Rihanna\n",
      "    5        31147  The Weeknd\n",
      "    6        28438  Eminem\n",
      "    7        27467  Ed Sheeran\n",
      "    8        24972  Future\n",
      "    9        24075  J. Cole\n",
      "   10        23625  Justin Bieber\n",
      "   11        23296  Beyoncé\n",
      "   12        22191  The Chainsmokers\n",
      "   13        20798  Chris Brown\n",
      "   14        20595  Luke Bryan\n",
      "   15        19848  Calvin Harris\n"
     ]
    }
   ],
   "source": [
    "# print\n",
    "\n",
    "print(\"Popular Tracks:\")\n",
    "print(tabulate(top_15_tracks, headers=['Pos', 'Playlists', 'Track', 'Album', 'Artist']))\n",
    "print(\" \\nPopular Albums:\")\n",
    "print(tabulate(top_15_album, headers=['Pos', 'Playlists', 'Album', 'Artist']))\n",
    "print(\"\\nPopular Artists:\")\n",
    "print(tabulate(top_15_artists, headers=['Pos', 'Playlists', 'Artist']))"
   ]
  }
 ],
 "metadata": {
  "kernelspec": {
   "display_name": "Python 3 (ipykernel)",
   "language": "python",
   "name": "python3"
  },
  "language_info": {
   "codemirror_mode": {
    "name": "ipython",
    "version": 3
   },
   "file_extension": ".py",
   "mimetype": "text/x-python",
   "name": "python",
   "nbconvert_exporter": "python",
   "pygments_lexer": "ipython3",
   "version": "3.10.2"
  }
 },
 "nbformat": 4,
 "nbformat_minor": 5
}
