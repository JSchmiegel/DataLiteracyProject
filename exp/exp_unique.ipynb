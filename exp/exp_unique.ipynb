{
 "cells": [
  {
   "cell_type": "code",
   "execution_count": 1,
   "metadata": {},
   "outputs": [],
   "source": [
    "import numpy as np\n",
    "import pandas as pd\n",
    "\n",
    "from matplotlib import pyplot as plt"
   ]
  },
  {
   "cell_type": "code",
   "execution_count": 2,
   "metadata": {},
   "outputs": [],
   "source": [
    "data_path = 'csv_data/'\n",
    "THREE_K = '_3k'\n",
    "TWENTY_K = '_20k'\n",
    "HUNDRED_K = '_100k'"
   ]
  },
  {
   "cell_type": "code",
   "execution_count": 10,
   "metadata": {},
   "outputs": [],
   "source": [
    "size = TWENTY_K"
   ]
  },
  {
   "cell_type": "code",
   "execution_count": 4,
   "metadata": {},
   "outputs": [],
   "source": [
    "track_df = None"
   ]
  },
  {
   "cell_type": "code",
   "execution_count": 56,
   "metadata": {},
   "outputs": [],
   "source": [
    "track_df = pd.read_csv(data_path + 'track_df' + size + '.csv').drop(columns=['Unnamed: 0'])"
   ]
  },
  {
   "cell_type": "code",
   "execution_count": 8,
   "metadata": {},
   "outputs": [],
   "source": [
    "def df_list(df, name, size=None):\n",
    "    if size is None:\n",
    "        list_df = df.groupby('pid')[(name + '_uri')].apply(list).reset_index(name=(name + '_uri'))\n",
    "        list_df = list_df.drop(columns=['pid'])\n",
    "    else:\n",
    "        list_df = pd.read_csv(data_path + 'list_df_' + name + size + '.csv', index_col=0)\n",
    "        list_df[(name + '_uri')] = list_df[(name + '_uri')].str.strip('[]').str.split(',')\n",
    "        \n",
    "    return list_df"
   ]
  },
  {
   "cell_type": "code",
   "execution_count": 11,
   "metadata": {},
   "outputs": [],
   "source": [
    "list_df_track = df_list(track_df, 'track', size)\n",
    "list_df_artist = df_list(track_df, 'artist', size)\n",
    "list_df_album = df_list(track_df, 'album', size)"
   ]
  },
  {
   "cell_type": "code",
   "execution_count": 60,
   "metadata": {},
   "outputs": [],
   "source": [
    "list_df_track.to_csv(data_path + 'list_df_track' + size + '.csv')\n",
    "list_df_artist.to_csv(data_path + 'list_df_artist' + size + '.csv')\n",
    "list_df_album.to_csv(data_path + 'list_df_album' + size + '.csv')"
   ]
  },
  {
   "cell_type": "code",
   "execution_count": 6,
   "metadata": {},
   "outputs": [],
   "source": [
    "def unique_vals(df, sub_size, name, size=None):\n",
    "    if size is None:\n",
    "        unique_vals = []\n",
    "        last_elem = None\n",
    "        checkpoint_list = list(range(0,int(len(df)), sub_size))\n",
    "\n",
    "        for i in checkpoint_list:\n",
    "            sub_series = df.iloc[i:i+sub_size][(name + '_uri')]\n",
    "            if last_elem is not None:\n",
    "                sub_series = pd.concat([pd.Series([last_elem]), sub_series])\n",
    "\n",
    "            sub_cum = sub_series.cumsum()\n",
    "            last_elem = sub_cum.iloc[-1]\n",
    "            sub_sets = sub_cum.apply(set)\n",
    "            \n",
    "            if last_elem is not None:\n",
    "                unique_vals.append(sub_sets.apply(len).tolist()[1:])\n",
    "            \n",
    "        unique_vals = pd.DataFrame(np.concatenate(unique_vals))\n",
    "    else:\n",
    "        unique_vals = pd.read_csv(data_path + 'unique_' + name + '_vals' + size + '.csv', index_col=0)\n",
    "        \n",
    "    return unique_vals"
   ]
  },
  {
   "cell_type": "code",
   "execution_count": 76,
   "metadata": {},
   "outputs": [
    {
     "data": {
      "text/html": [
       "<div>\n",
       "<style scoped>\n",
       "    .dataframe tbody tr th:only-of-type {\n",
       "        vertical-align: middle;\n",
       "    }\n",
       "\n",
       "    .dataframe tbody tr th {\n",
       "        vertical-align: top;\n",
       "    }\n",
       "\n",
       "    .dataframe thead th {\n",
       "        text-align: right;\n",
       "    }\n",
       "</style>\n",
       "<table border=\"1\" class=\"dataframe\">\n",
       "  <thead>\n",
       "    <tr style=\"text-align: right;\">\n",
       "      <th></th>\n",
       "      <th>track_uri</th>\n",
       "    </tr>\n",
       "  </thead>\n",
       "  <tbody>\n",
       "    <tr>\n",
       "      <th>0</th>\n",
       "      <td>['spotify:track:0UaMYEvWZi0ZqiDOoHU3YI',  'spo...</td>\n",
       "    </tr>\n",
       "    <tr>\n",
       "      <th>1</th>\n",
       "      <td>['spotify:track:2HHtWyy5CgaQbC7XSoOb0e',  'spo...</td>\n",
       "    </tr>\n",
       "    <tr>\n",
       "      <th>2</th>\n",
       "      <td>['spotify:track:74tqql9zP6JjF5hjkHHUXp',  'spo...</td>\n",
       "    </tr>\n",
       "    <tr>\n",
       "      <th>3</th>\n",
       "      <td>['spotify:track:4WJ7UMD4i6DOPzyXU5pZSz',  'spo...</td>\n",
       "    </tr>\n",
       "    <tr>\n",
       "      <th>4</th>\n",
       "      <td>['spotify:track:4iCGSi1RonREsPtfEKYj5b',  'spo...</td>\n",
       "    </tr>\n",
       "    <tr>\n",
       "      <th>...</th>\n",
       "      <td>...</td>\n",
       "    </tr>\n",
       "    <tr>\n",
       "      <th>19995</th>\n",
       "      <td>['spotify:track:64j3Bd62HTe0pclk8Aq9BE',  'spo...</td>\n",
       "    </tr>\n",
       "    <tr>\n",
       "      <th>19996</th>\n",
       "      <td>['spotify:track:09OojFvtrM9YRzRjnXqJjA',  'spo...</td>\n",
       "    </tr>\n",
       "    <tr>\n",
       "      <th>19997</th>\n",
       "      <td>['spotify:track:4lNznSUjByH5zWpPZFFeff',  'spo...</td>\n",
       "    </tr>\n",
       "    <tr>\n",
       "      <th>19998</th>\n",
       "      <td>['spotify:track:1yy2DlSDtEt90d54rPDPXz',  'spo...</td>\n",
       "    </tr>\n",
       "    <tr>\n",
       "      <th>19999</th>\n",
       "      <td>['spotify:track:6bFsQ6yOp3z5mGNkhWP0P1',  'spo...</td>\n",
       "    </tr>\n",
       "  </tbody>\n",
       "</table>\n",
       "<p>20000 rows × 1 columns</p>\n",
       "</div>"
      ],
      "text/plain": [
       "                                               track_uri\n",
       "0      ['spotify:track:0UaMYEvWZi0ZqiDOoHU3YI',  'spo...\n",
       "1      ['spotify:track:2HHtWyy5CgaQbC7XSoOb0e',  'spo...\n",
       "2      ['spotify:track:74tqql9zP6JjF5hjkHHUXp',  'spo...\n",
       "3      ['spotify:track:4WJ7UMD4i6DOPzyXU5pZSz',  'spo...\n",
       "4      ['spotify:track:4iCGSi1RonREsPtfEKYj5b',  'spo...\n",
       "...                                                  ...\n",
       "19995  ['spotify:track:64j3Bd62HTe0pclk8Aq9BE',  'spo...\n",
       "19996  ['spotify:track:09OojFvtrM9YRzRjnXqJjA',  'spo...\n",
       "19997  ['spotify:track:4lNznSUjByH5zWpPZFFeff',  'spo...\n",
       "19998  ['spotify:track:1yy2DlSDtEt90d54rPDPXz',  'spo...\n",
       "19999  ['spotify:track:6bFsQ6yOp3z5mGNkhWP0P1',  'spo...\n",
       "\n",
       "[20000 rows x 1 columns]"
      ]
     },
     "execution_count": 76,
     "metadata": {},
     "output_type": "execute_result"
    }
   ],
   "source": [
    "list_df_track"
   ]
  },
  {
   "cell_type": "code",
   "execution_count": 12,
   "metadata": {
    "scrolled": true
   },
   "outputs": [
    {
     "name": "stdout",
     "output_type": "stream",
     "text": [
      "CPU times: user 22.9 ms, sys: 6.51 ms, total: 29.5 ms\n",
      "Wall time: 39.2 ms\n"
     ]
    }
   ],
   "source": [
    "%%time\n",
    "vals_track = unique_vals(list_df_track, 200, 'track', size)\n",
    "vals_artist = unique_vals(list_df_artist, 200, 'artist', size)\n",
    "vals_album = unique_vals(list_df_album, 200, 'album', size)"
   ]
  },
  {
   "cell_type": "code",
   "execution_count": 10,
   "metadata": {},
   "outputs": [],
   "source": [
    "vals_track.to_csv(data_path + 'unique_track_vals' + size + '.csv')\n",
    "vals_artist.to_csv(data_path + 'unique_artist_vals' + size + '.csv')\n",
    "vals_album.to_csv(data_path + 'unique_album_vals' + size + '.csv')"
   ]
  },
  {
   "cell_type": "code",
   "execution_count": 13,
   "metadata": {},
   "outputs": [],
   "source": [
    "def forward(x):\n",
    "    return x**(1/2)\n",
    "\n",
    "def inverse(x):\n",
    "    return x**2"
   ]
  },
  {
   "cell_type": "code",
   "execution_count": 75,
   "metadata": {
    "scrolled": false
   },
   "outputs": [
    {
     "data": {
      "image/png": "[encoded data removed]",
      "text/plain": [
       "<Figure size 1296x432 with 3 Axes>"
      ]
     },
     "metadata": {
      "needs_background": "light"
     },
     "output_type": "display_data"
    }
   ],
   "source": [
    "fig, axs = plt.subplots(1,3, figsize=(18,6))\n",
    "\n",
    "axs[0].plot(vals_track.index, vals_track.values, color='#1DB954', linewidth=3)\n",
    "axs[1].plot(vals_artist.index, vals_artist.values, color='#1DB954', linewidth=3)\n",
    "axs[2].plot(vals_album.index, vals_album.values, color='#1DB954', linewidth=3)\n",
    "\n",
    "axs[0].set_xscale('function', functions=(forward, inverse))\n",
    "axs[0].tick_params(axis='x', rotation=45)\n",
    "axs[1].set_xscale('function', functions=(forward, inverse))\n",
    "axs[1].tick_params(axis='x', rotation=45)\n",
    "axs[2].set_xscale('function', functions=(forward, inverse))\n",
    "axs[2].tick_params(axis='x', rotation=45)\n",
    "\n",
    "axs[0].set_title('Track', size=16)\n",
    "axs[1].set_title('Artist', size=16)\n",
    "axs[2].set_title('Album', size=16)\n",
    "\n",
    "axs[0].set_ylabel('Number of Unqiue', size=14)\n",
    "axs[1].set_xlabel('Playlists', size=14)\n",
    "\n",
    "plt.show()"
   ]
  }
 ],
 "metadata": {
  "kernelspec": {
   "display_name": "Python 3",
   "language": "python",
   "name": "python3"
  },
  "language_info": {
   "codemirror_mode": {
    "name": "ipython",
    "version": 3
   },
   "file_extension": ".py",
   "mimetype": "text/x-python",
   "name": "python",
   "nbconvert_exporter": "python",
   "pygments_lexer": "ipython3",
   "version": "3.8.5"
  }
 },
 "nbformat": 4,
 "nbformat_minor": 4
}
