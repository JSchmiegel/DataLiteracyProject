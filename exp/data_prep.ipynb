{
 "cells": [
  {
   "cell_type": "code",
   "execution_count": 1,
   "metadata": {},
   "outputs": [],
   "source": [
    "from pathlib import Path\n",
    "import json\n",
    "\n",
    "import numpy as np\n",
    "import pandas as pd"
   ]
  },
  {
   "cell_type": "code",
   "execution_count": 2,
   "metadata": {},
   "outputs": [],
   "source": [
    "data_path = 'spotify_million_playlist_dataset/data'\n",
    "THREE_K = '_3k'\n",
    "TWENTY_K = '_20k'\n",
    "HUNDRED_K = '_100k'"
   ]
  },
  {
   "cell_type": "code",
   "execution_count": 3,
   "metadata": {},
   "outputs": [],
   "source": [
    "def load_jsons(data_path):\n",
    "    pathlist = Path(data_path).glob('**/*.json')\n",
    "    df_slices = []\n",
    "\n",
    "    for path in pathlist:\n",
    "        data = json.load(open(path))\n",
    "        df_slices.append(pd.DataFrame(data['playlists']))\n",
    "\n",
    "    df = pd.concat(df_slices)\n",
    "    return df"
   ]
  },
  {
   "cell_type": "code",
   "execution_count": 4,
   "metadata": {},
   "outputs": [],
   "source": [
    "def playlist_level(df):\n",
    "    df = df.drop(columns=['tracks'])\n",
    "    df = df.sort_values(by=['pid'])\n",
    "    df = df.reset_index().drop(columns=['index'])\n",
    "    return df"
   ]
  },
  {
   "cell_type": "code",
   "execution_count": 5,
   "metadata": {},
   "outputs": [],
   "source": [
    "def track_level(df):\n",
    "    df = df.drop(columns=['name','collaborative', 'modified_at', 'num_tracks', 'num_albums',\n",
    "                          'num_followers', 'num_edits', 'duration_ms', 'num_artists', 'description'])\n",
    "    df['tracks'] = df['tracks'].apply(lambda x: pd.DataFrame(x))\n",
    "    \n",
    "    tracks_list = []\n",
    "    playlist_ids = []\n",
    "    \n",
    "    for _, row in df.iterrows():\n",
    "        sub_df = row['tracks']\n",
    "        tracks_num = len(sub_df)\n",
    "        tracks_list.append(sub_df)\n",
    "        playlist_ids.append(np.repeat(row['pid'], tracks_num))\n",
    "    \n",
    "    df = pd.concat(tracks_list)\n",
    "    df['pid'] = np.concatenate(playlist_ids).flatten()\n",
    "    df = df.sort_values(by=['pid', 'pos'])\n",
    "    df = df.reset_index().drop(columns=['index'])\n",
    "    return df"
   ]
  },
  {
   "cell_type": "code",
   "execution_count": 6,
   "metadata": {},
   "outputs": [],
   "source": [
    "size = HUNDRED_K"
   ]
  },
  {
   "cell_type": "code",
   "execution_count": null,
   "metadata": {},
   "outputs": [],
   "source": [
    "df = load_jsons(data_path)\n",
    "playlist_df = playlist_level(df)\n",
    "#track_df = track_level(df)"
   ]
  },
  {
   "cell_type": "code",
   "execution_count": null,
   "metadata": {},
   "outputs": [],
   "source": [
    "# TODO dont save index column\n",
    "playlist_df.to_csv('csv_data/playlist_df.csv')\n",
    "#track_df.to_csv('csv_data/track_df' + size + '.csv')"
   ]
  }
 ],
 "metadata": {
  "kernelspec": {
   "display_name": "Python 3",
   "language": "python",
   "name": "python3"
  },
  "language_info": {
   "codemirror_mode": {
    "name": "ipython",
    "version": 3
   },
   "file_extension": ".py",
   "mimetype": "text/x-python",
   "name": "python",
   "nbconvert_exporter": "python",
   "pygments_lexer": "ipython3",
   "version": "3.8.5"
  }
 },
 "nbformat": 4,
 "nbformat_minor": 4
}
